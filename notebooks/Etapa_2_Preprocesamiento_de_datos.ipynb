{
  "nbformat": 4,
  "nbformat_minor": 0,
  "metadata": {
    "colab": {
      "provenance": []
    },
    "kernelspec": {
      "name": "ir",
      "display_name": "R"
    },
    "language_info": {
      "name": "R"
    }
  },
  "cells": [
    {
      "cell_type": "markdown",
      "source": [
        "# Cargar bibliotecas"
      ],
      "metadata": {
        "id": "6QwRh4Hmk0bP"
      }
    },
    {
      "cell_type": "code",
      "source": [
        "install.packages(\"tidyverse\")\n",
        "library(tidyverse)\n",
        "library(ggplot2)\n",
        "library(dplyr)\n",
        "library(tidyr)"
      ],
      "metadata": {
        "colab": {
          "base_uri": "https://localhost:8080/"
        },
        "id": "yBYKa8NZcTgo",
        "outputId": "c657d2a1-3ac5-4bca-c043-3b0125683763"
      },
      "execution_count": 2,
      "outputs": [
        {
          "output_type": "stream",
          "name": "stderr",
          "text": [
            "Installing package into ‘/usr/local/lib/R/site-library’\n",
            "(as ‘lib’ is unspecified)\n",
            "\n"
          ]
        }
      ]
    },
    {
      "cell_type": "markdown",
      "source": [
        "# Cargar los datos"
      ],
      "metadata": {
        "id": "32ErTC4fk4Kh"
      }
    },
    {
      "cell_type": "code",
      "execution_count": 3,
      "metadata": {
        "colab": {
          "base_uri": "https://localhost:8080/",
          "height": 306
        },
        "id": "30tjpqU-OzLh",
        "outputId": "81467254-5605-4305-9f84-e1a745c83c7b"
      },
      "outputs": [
        {
          "output_type": "display_data",
          "data": {
            "text/html": [
              "<table class=\"dataframe\">\n",
              "<caption>A data.frame: 6 × 82</caption>\n",
              "<thead>\n",
              "\t<tr><th></th><th scope=col>Order</th><th scope=col>PID</th><th scope=col>MS.SubClass</th><th scope=col>MS.Zoning</th><th scope=col>Lot.Frontage</th><th scope=col>Lot.Area</th><th scope=col>Street</th><th scope=col>Alley</th><th scope=col>Lot.Shape</th><th scope=col>Land.Contour</th><th scope=col>⋯</th><th scope=col>Pool.Area</th><th scope=col>Pool.QC</th><th scope=col>Fence</th><th scope=col>Misc.Feature</th><th scope=col>Misc.Val</th><th scope=col>Mo.Sold</th><th scope=col>Yr.Sold</th><th scope=col>Sale.Type</th><th scope=col>Sale.Condition</th><th scope=col>SalePrice</th></tr>\n",
              "\t<tr><th></th><th scope=col>&lt;int&gt;</th><th scope=col>&lt;int&gt;</th><th scope=col>&lt;int&gt;</th><th scope=col>&lt;chr&gt;</th><th scope=col>&lt;int&gt;</th><th scope=col>&lt;int&gt;</th><th scope=col>&lt;chr&gt;</th><th scope=col>&lt;chr&gt;</th><th scope=col>&lt;chr&gt;</th><th scope=col>&lt;chr&gt;</th><th scope=col>⋯</th><th scope=col>&lt;int&gt;</th><th scope=col>&lt;chr&gt;</th><th scope=col>&lt;chr&gt;</th><th scope=col>&lt;chr&gt;</th><th scope=col>&lt;int&gt;</th><th scope=col>&lt;int&gt;</th><th scope=col>&lt;int&gt;</th><th scope=col>&lt;chr&gt;</th><th scope=col>&lt;chr&gt;</th><th scope=col>&lt;int&gt;</th></tr>\n",
              "</thead>\n",
              "<tbody>\n",
              "\t<tr><th scope=row>1</th><td>1</td><td>526301100</td><td>20</td><td>RL</td><td>141</td><td>31770</td><td>Pave</td><td>NA</td><td>IR1</td><td>Lvl</td><td>⋯</td><td>0</td><td>NA</td><td>NA   </td><td>NA  </td><td>    0</td><td>5</td><td>2010</td><td>WD </td><td>Normal</td><td>215000</td></tr>\n",
              "\t<tr><th scope=row>2</th><td>2</td><td>526350040</td><td>20</td><td>RH</td><td> 80</td><td>11622</td><td>Pave</td><td>NA</td><td>Reg</td><td>Lvl</td><td>⋯</td><td>0</td><td>NA</td><td>MnPrv</td><td>NA  </td><td>    0</td><td>6</td><td>2010</td><td>WD </td><td>Normal</td><td>105000</td></tr>\n",
              "\t<tr><th scope=row>3</th><td>3</td><td>526351010</td><td>20</td><td>RL</td><td> 81</td><td>14267</td><td>Pave</td><td>NA</td><td>IR1</td><td>Lvl</td><td>⋯</td><td>0</td><td>NA</td><td>NA   </td><td>Gar2</td><td>12500</td><td>6</td><td>2010</td><td>WD </td><td>Normal</td><td>172000</td></tr>\n",
              "\t<tr><th scope=row>4</th><td>4</td><td>526353030</td><td>20</td><td>RL</td><td> 93</td><td>11160</td><td>Pave</td><td>NA</td><td>Reg</td><td>Lvl</td><td>⋯</td><td>0</td><td>NA</td><td>NA   </td><td>NA  </td><td>    0</td><td>4</td><td>2010</td><td>WD </td><td>Normal</td><td>244000</td></tr>\n",
              "\t<tr><th scope=row>5</th><td>5</td><td>527105010</td><td>60</td><td>RL</td><td> 74</td><td>13830</td><td>Pave</td><td>NA</td><td>IR1</td><td>Lvl</td><td>⋯</td><td>0</td><td>NA</td><td>MnPrv</td><td>NA  </td><td>    0</td><td>3</td><td>2010</td><td>WD </td><td>Normal</td><td>189900</td></tr>\n",
              "\t<tr><th scope=row>6</th><td>6</td><td>527105030</td><td>60</td><td>RL</td><td> 78</td><td> 9978</td><td>Pave</td><td>NA</td><td>IR1</td><td>Lvl</td><td>⋯</td><td>0</td><td>NA</td><td>NA   </td><td>NA  </td><td>    0</td><td>6</td><td>2010</td><td>WD </td><td>Normal</td><td>195500</td></tr>\n",
              "</tbody>\n",
              "</table>\n"
            ],
            "text/markdown": "\nA data.frame: 6 × 82\n\n| <!--/--> | Order &lt;int&gt; | PID &lt;int&gt; | MS.SubClass &lt;int&gt; | MS.Zoning &lt;chr&gt; | Lot.Frontage &lt;int&gt; | Lot.Area &lt;int&gt; | Street &lt;chr&gt; | Alley &lt;chr&gt; | Lot.Shape &lt;chr&gt; | Land.Contour &lt;chr&gt; | ⋯ ⋯ | Pool.Area &lt;int&gt; | Pool.QC &lt;chr&gt; | Fence &lt;chr&gt; | Misc.Feature &lt;chr&gt; | Misc.Val &lt;int&gt; | Mo.Sold &lt;int&gt; | Yr.Sold &lt;int&gt; | Sale.Type &lt;chr&gt; | Sale.Condition &lt;chr&gt; | SalePrice &lt;int&gt; |\n|---|---|---|---|---|---|---|---|---|---|---|---|---|---|---|---|---|---|---|---|---|---|\n| 1 | 1 | 526301100 | 20 | RL | 141 | 31770 | Pave | NA | IR1 | Lvl | ⋯ | 0 | NA | NA    | NA   |     0 | 5 | 2010 | WD  | Normal | 215000 |\n| 2 | 2 | 526350040 | 20 | RH |  80 | 11622 | Pave | NA | Reg | Lvl | ⋯ | 0 | NA | MnPrv | NA   |     0 | 6 | 2010 | WD  | Normal | 105000 |\n| 3 | 3 | 526351010 | 20 | RL |  81 | 14267 | Pave | NA | IR1 | Lvl | ⋯ | 0 | NA | NA    | Gar2 | 12500 | 6 | 2010 | WD  | Normal | 172000 |\n| 4 | 4 | 526353030 | 20 | RL |  93 | 11160 | Pave | NA | Reg | Lvl | ⋯ | 0 | NA | NA    | NA   |     0 | 4 | 2010 | WD  | Normal | 244000 |\n| 5 | 5 | 527105010 | 60 | RL |  74 | 13830 | Pave | NA | IR1 | Lvl | ⋯ | 0 | NA | MnPrv | NA   |     0 | 3 | 2010 | WD  | Normal | 189900 |\n| 6 | 6 | 527105030 | 60 | RL |  78 |  9978 | Pave | NA | IR1 | Lvl | ⋯ | 0 | NA | NA    | NA   |     0 | 6 | 2010 | WD  | Normal | 195500 |\n\n",
            "text/latex": "A data.frame: 6 × 82\n\\begin{tabular}{r|lllllllllllllllllllll}\n  & Order & PID & MS.SubClass & MS.Zoning & Lot.Frontage & Lot.Area & Street & Alley & Lot.Shape & Land.Contour & ⋯ & Pool.Area & Pool.QC & Fence & Misc.Feature & Misc.Val & Mo.Sold & Yr.Sold & Sale.Type & Sale.Condition & SalePrice\\\\\n  & <int> & <int> & <int> & <chr> & <int> & <int> & <chr> & <chr> & <chr> & <chr> & ⋯ & <int> & <chr> & <chr> & <chr> & <int> & <int> & <int> & <chr> & <chr> & <int>\\\\\n\\hline\n\t1 & 1 & 526301100 & 20 & RL & 141 & 31770 & Pave & NA & IR1 & Lvl & ⋯ & 0 & NA & NA    & NA   &     0 & 5 & 2010 & WD  & Normal & 215000\\\\\n\t2 & 2 & 526350040 & 20 & RH &  80 & 11622 & Pave & NA & Reg & Lvl & ⋯ & 0 & NA & MnPrv & NA   &     0 & 6 & 2010 & WD  & Normal & 105000\\\\\n\t3 & 3 & 526351010 & 20 & RL &  81 & 14267 & Pave & NA & IR1 & Lvl & ⋯ & 0 & NA & NA    & Gar2 & 12500 & 6 & 2010 & WD  & Normal & 172000\\\\\n\t4 & 4 & 526353030 & 20 & RL &  93 & 11160 & Pave & NA & Reg & Lvl & ⋯ & 0 & NA & NA    & NA   &     0 & 4 & 2010 & WD  & Normal & 244000\\\\\n\t5 & 5 & 527105010 & 60 & RL &  74 & 13830 & Pave & NA & IR1 & Lvl & ⋯ & 0 & NA & MnPrv & NA   &     0 & 3 & 2010 & WD  & Normal & 189900\\\\\n\t6 & 6 & 527105030 & 60 & RL &  78 &  9978 & Pave & NA & IR1 & Lvl & ⋯ & 0 & NA & NA    & NA   &     0 & 6 & 2010 & WD  & Normal & 195500\\\\\n\\end{tabular}\n",
            "text/plain": [
              "  Order PID       MS.SubClass MS.Zoning Lot.Frontage Lot.Area Street Alley\n",
              "1 1     526301100 20          RL        141          31770    Pave   NA   \n",
              "2 2     526350040 20          RH         80          11622    Pave   NA   \n",
              "3 3     526351010 20          RL         81          14267    Pave   NA   \n",
              "4 4     526353030 20          RL         93          11160    Pave   NA   \n",
              "5 5     527105010 60          RL         74          13830    Pave   NA   \n",
              "6 6     527105030 60          RL         78           9978    Pave   NA   \n",
              "  Lot.Shape Land.Contour ⋯ Pool.Area Pool.QC Fence Misc.Feature Misc.Val\n",
              "1 IR1       Lvl          ⋯ 0         NA      NA    NA               0   \n",
              "2 Reg       Lvl          ⋯ 0         NA      MnPrv NA               0   \n",
              "3 IR1       Lvl          ⋯ 0         NA      NA    Gar2         12500   \n",
              "4 Reg       Lvl          ⋯ 0         NA      NA    NA               0   \n",
              "5 IR1       Lvl          ⋯ 0         NA      MnPrv NA               0   \n",
              "6 IR1       Lvl          ⋯ 0         NA      NA    NA               0   \n",
              "  Mo.Sold Yr.Sold Sale.Type Sale.Condition SalePrice\n",
              "1 5       2010    WD        Normal         215000   \n",
              "2 6       2010    WD        Normal         105000   \n",
              "3 6       2010    WD        Normal         172000   \n",
              "4 4       2010    WD        Normal         244000   \n",
              "5 3       2010    WD        Normal         189900   \n",
              "6 6       2010    WD        Normal         195500   "
            ]
          },
          "metadata": {}
        }
      ],
      "source": [
        "# Asignar los datos a la variable df\n",
        "df <- read.csv(\"/content/AmesHousing_raw_data.csv\")\n",
        "\n",
        "# Visualizar los primeros datos del dataframe\n",
        "head(df)"
      ]
    },
    {
      "cell_type": "markdown",
      "source": [
        "# Eliminar las columnas que no aportan información"
      ],
      "metadata": {
        "id": "ugOk7Og_lEB2"
      }
    },
    {
      "cell_type": "code",
      "source": [
        "# Especifica los nombres de las columnas a eliminar\n",
        "columns_to_delete <- c(\"Order\", \"PID\", \"Garage Yr Blt\")\n",
        "\n",
        "# Elimina las columnas especificadas\n",
        "df <- df[, -which(names(df) %in% columns_to_delete)]\n",
        "\n",
        "# Observe las primeras filas del nuevo data frame\n",
        "head(df)"
      ],
      "metadata": {
        "colab": {
          "base_uri": "https://localhost:8080/",
          "height": 306
        },
        "id": "4H6-QFwYREGP",
        "outputId": "590bf0cc-fd6c-46d7-92e7-e7f87a5bae44"
      },
      "execution_count": 4,
      "outputs": [
        {
          "output_type": "display_data",
          "data": {
            "text/html": [
              "<table class=\"dataframe\">\n",
              "<caption>A data.frame: 6 × 80</caption>\n",
              "<thead>\n",
              "\t<tr><th></th><th scope=col>MS.SubClass</th><th scope=col>MS.Zoning</th><th scope=col>Lot.Frontage</th><th scope=col>Lot.Area</th><th scope=col>Street</th><th scope=col>Alley</th><th scope=col>Lot.Shape</th><th scope=col>Land.Contour</th><th scope=col>Utilities</th><th scope=col>Lot.Config</th><th scope=col>⋯</th><th scope=col>Pool.Area</th><th scope=col>Pool.QC</th><th scope=col>Fence</th><th scope=col>Misc.Feature</th><th scope=col>Misc.Val</th><th scope=col>Mo.Sold</th><th scope=col>Yr.Sold</th><th scope=col>Sale.Type</th><th scope=col>Sale.Condition</th><th scope=col>SalePrice</th></tr>\n",
              "\t<tr><th></th><th scope=col>&lt;int&gt;</th><th scope=col>&lt;chr&gt;</th><th scope=col>&lt;int&gt;</th><th scope=col>&lt;int&gt;</th><th scope=col>&lt;chr&gt;</th><th scope=col>&lt;chr&gt;</th><th scope=col>&lt;chr&gt;</th><th scope=col>&lt;chr&gt;</th><th scope=col>&lt;chr&gt;</th><th scope=col>&lt;chr&gt;</th><th scope=col>⋯</th><th scope=col>&lt;int&gt;</th><th scope=col>&lt;chr&gt;</th><th scope=col>&lt;chr&gt;</th><th scope=col>&lt;chr&gt;</th><th scope=col>&lt;int&gt;</th><th scope=col>&lt;int&gt;</th><th scope=col>&lt;int&gt;</th><th scope=col>&lt;chr&gt;</th><th scope=col>&lt;chr&gt;</th><th scope=col>&lt;int&gt;</th></tr>\n",
              "</thead>\n",
              "<tbody>\n",
              "\t<tr><th scope=row>1</th><td>20</td><td>RL</td><td>141</td><td>31770</td><td>Pave</td><td>NA</td><td>IR1</td><td>Lvl</td><td>AllPub</td><td>Corner</td><td>⋯</td><td>0</td><td>NA</td><td>NA   </td><td>NA  </td><td>    0</td><td>5</td><td>2010</td><td>WD </td><td>Normal</td><td>215000</td></tr>\n",
              "\t<tr><th scope=row>2</th><td>20</td><td>RH</td><td> 80</td><td>11622</td><td>Pave</td><td>NA</td><td>Reg</td><td>Lvl</td><td>AllPub</td><td>Inside</td><td>⋯</td><td>0</td><td>NA</td><td>MnPrv</td><td>NA  </td><td>    0</td><td>6</td><td>2010</td><td>WD </td><td>Normal</td><td>105000</td></tr>\n",
              "\t<tr><th scope=row>3</th><td>20</td><td>RL</td><td> 81</td><td>14267</td><td>Pave</td><td>NA</td><td>IR1</td><td>Lvl</td><td>AllPub</td><td>Corner</td><td>⋯</td><td>0</td><td>NA</td><td>NA   </td><td>Gar2</td><td>12500</td><td>6</td><td>2010</td><td>WD </td><td>Normal</td><td>172000</td></tr>\n",
              "\t<tr><th scope=row>4</th><td>20</td><td>RL</td><td> 93</td><td>11160</td><td>Pave</td><td>NA</td><td>Reg</td><td>Lvl</td><td>AllPub</td><td>Corner</td><td>⋯</td><td>0</td><td>NA</td><td>NA   </td><td>NA  </td><td>    0</td><td>4</td><td>2010</td><td>WD </td><td>Normal</td><td>244000</td></tr>\n",
              "\t<tr><th scope=row>5</th><td>60</td><td>RL</td><td> 74</td><td>13830</td><td>Pave</td><td>NA</td><td>IR1</td><td>Lvl</td><td>AllPub</td><td>Inside</td><td>⋯</td><td>0</td><td>NA</td><td>MnPrv</td><td>NA  </td><td>    0</td><td>3</td><td>2010</td><td>WD </td><td>Normal</td><td>189900</td></tr>\n",
              "\t<tr><th scope=row>6</th><td>60</td><td>RL</td><td> 78</td><td> 9978</td><td>Pave</td><td>NA</td><td>IR1</td><td>Lvl</td><td>AllPub</td><td>Inside</td><td>⋯</td><td>0</td><td>NA</td><td>NA   </td><td>NA  </td><td>    0</td><td>6</td><td>2010</td><td>WD </td><td>Normal</td><td>195500</td></tr>\n",
              "</tbody>\n",
              "</table>\n"
            ],
            "text/markdown": "\nA data.frame: 6 × 80\n\n| <!--/--> | MS.SubClass &lt;int&gt; | MS.Zoning &lt;chr&gt; | Lot.Frontage &lt;int&gt; | Lot.Area &lt;int&gt; | Street &lt;chr&gt; | Alley &lt;chr&gt; | Lot.Shape &lt;chr&gt; | Land.Contour &lt;chr&gt; | Utilities &lt;chr&gt; | Lot.Config &lt;chr&gt; | ⋯ ⋯ | Pool.Area &lt;int&gt; | Pool.QC &lt;chr&gt; | Fence &lt;chr&gt; | Misc.Feature &lt;chr&gt; | Misc.Val &lt;int&gt; | Mo.Sold &lt;int&gt; | Yr.Sold &lt;int&gt; | Sale.Type &lt;chr&gt; | Sale.Condition &lt;chr&gt; | SalePrice &lt;int&gt; |\n|---|---|---|---|---|---|---|---|---|---|---|---|---|---|---|---|---|---|---|---|---|---|\n| 1 | 20 | RL | 141 | 31770 | Pave | NA | IR1 | Lvl | AllPub | Corner | ⋯ | 0 | NA | NA    | NA   |     0 | 5 | 2010 | WD  | Normal | 215000 |\n| 2 | 20 | RH |  80 | 11622 | Pave | NA | Reg | Lvl | AllPub | Inside | ⋯ | 0 | NA | MnPrv | NA   |     0 | 6 | 2010 | WD  | Normal | 105000 |\n| 3 | 20 | RL |  81 | 14267 | Pave | NA | IR1 | Lvl | AllPub | Corner | ⋯ | 0 | NA | NA    | Gar2 | 12500 | 6 | 2010 | WD  | Normal | 172000 |\n| 4 | 20 | RL |  93 | 11160 | Pave | NA | Reg | Lvl | AllPub | Corner | ⋯ | 0 | NA | NA    | NA   |     0 | 4 | 2010 | WD  | Normal | 244000 |\n| 5 | 60 | RL |  74 | 13830 | Pave | NA | IR1 | Lvl | AllPub | Inside | ⋯ | 0 | NA | MnPrv | NA   |     0 | 3 | 2010 | WD  | Normal | 189900 |\n| 6 | 60 | RL |  78 |  9978 | Pave | NA | IR1 | Lvl | AllPub | Inside | ⋯ | 0 | NA | NA    | NA   |     0 | 6 | 2010 | WD  | Normal | 195500 |\n\n",
            "text/latex": "A data.frame: 6 × 80\n\\begin{tabular}{r|lllllllllllllllllllll}\n  & MS.SubClass & MS.Zoning & Lot.Frontage & Lot.Area & Street & Alley & Lot.Shape & Land.Contour & Utilities & Lot.Config & ⋯ & Pool.Area & Pool.QC & Fence & Misc.Feature & Misc.Val & Mo.Sold & Yr.Sold & Sale.Type & Sale.Condition & SalePrice\\\\\n  & <int> & <chr> & <int> & <int> & <chr> & <chr> & <chr> & <chr> & <chr> & <chr> & ⋯ & <int> & <chr> & <chr> & <chr> & <int> & <int> & <int> & <chr> & <chr> & <int>\\\\\n\\hline\n\t1 & 20 & RL & 141 & 31770 & Pave & NA & IR1 & Lvl & AllPub & Corner & ⋯ & 0 & NA & NA    & NA   &     0 & 5 & 2010 & WD  & Normal & 215000\\\\\n\t2 & 20 & RH &  80 & 11622 & Pave & NA & Reg & Lvl & AllPub & Inside & ⋯ & 0 & NA & MnPrv & NA   &     0 & 6 & 2010 & WD  & Normal & 105000\\\\\n\t3 & 20 & RL &  81 & 14267 & Pave & NA & IR1 & Lvl & AllPub & Corner & ⋯ & 0 & NA & NA    & Gar2 & 12500 & 6 & 2010 & WD  & Normal & 172000\\\\\n\t4 & 20 & RL &  93 & 11160 & Pave & NA & Reg & Lvl & AllPub & Corner & ⋯ & 0 & NA & NA    & NA   &     0 & 4 & 2010 & WD  & Normal & 244000\\\\\n\t5 & 60 & RL &  74 & 13830 & Pave & NA & IR1 & Lvl & AllPub & Inside & ⋯ & 0 & NA & MnPrv & NA   &     0 & 3 & 2010 & WD  & Normal & 189900\\\\\n\t6 & 60 & RL &  78 &  9978 & Pave & NA & IR1 & Lvl & AllPub & Inside & ⋯ & 0 & NA & NA    & NA   &     0 & 6 & 2010 & WD  & Normal & 195500\\\\\n\\end{tabular}\n",
            "text/plain": [
              "  MS.SubClass MS.Zoning Lot.Frontage Lot.Area Street Alley Lot.Shape\n",
              "1 20          RL        141          31770    Pave   NA    IR1      \n",
              "2 20          RH         80          11622    Pave   NA    Reg      \n",
              "3 20          RL         81          14267    Pave   NA    IR1      \n",
              "4 20          RL         93          11160    Pave   NA    Reg      \n",
              "5 60          RL         74          13830    Pave   NA    IR1      \n",
              "6 60          RL         78           9978    Pave   NA    IR1      \n",
              "  Land.Contour Utilities Lot.Config ⋯ Pool.Area Pool.QC Fence Misc.Feature\n",
              "1 Lvl          AllPub    Corner     ⋯ 0         NA      NA    NA          \n",
              "2 Lvl          AllPub    Inside     ⋯ 0         NA      MnPrv NA          \n",
              "3 Lvl          AllPub    Corner     ⋯ 0         NA      NA    Gar2        \n",
              "4 Lvl          AllPub    Corner     ⋯ 0         NA      NA    NA          \n",
              "5 Lvl          AllPub    Inside     ⋯ 0         NA      MnPrv NA          \n",
              "6 Lvl          AllPub    Inside     ⋯ 0         NA      NA    NA          \n",
              "  Misc.Val Mo.Sold Yr.Sold Sale.Type Sale.Condition SalePrice\n",
              "1     0    5       2010    WD        Normal         215000   \n",
              "2     0    6       2010    WD        Normal         105000   \n",
              "3 12500    6       2010    WD        Normal         172000   \n",
              "4     0    4       2010    WD        Normal         244000   \n",
              "5     0    3       2010    WD        Normal         189900   \n",
              "6     0    6       2010    WD        Normal         195500   "
            ]
          },
          "metadata": {}
        }
      ]
    },
    {
      "cell_type": "markdown",
      "source": [
        "# Modificar nombres de columnas"
      ],
      "metadata": {
        "id": "xLlmnzStlQH5"
      }
    },
    {
      "cell_type": "code",
      "source": [
        "# Cambiar los nombres de las columnas con puntos a guiones bajos\n",
        "names(df) <- names(df) %>%\n",
        "             str_replace_all(\"\\\\.\", \"_\") %>%\n",
        "             tolower()\n",
        "\n",
        "# Observe las primeras filas del nuevo data frame\n",
        "head(df)"
      ],
      "metadata": {
        "colab": {
          "base_uri": "https://localhost:8080/",
          "height": 306
        },
        "id": "3DQuYTWgWtsq",
        "outputId": "a5e40099-f982-41af-e7b6-5877e5599e17"
      },
      "execution_count": 5,
      "outputs": [
        {
          "output_type": "display_data",
          "data": {
            "text/html": [
              "<table class=\"dataframe\">\n",
              "<caption>A data.frame: 6 × 80</caption>\n",
              "<thead>\n",
              "\t<tr><th></th><th scope=col>ms_subclass</th><th scope=col>ms_zoning</th><th scope=col>lot_frontage</th><th scope=col>lot_area</th><th scope=col>street</th><th scope=col>alley</th><th scope=col>lot_shape</th><th scope=col>land_contour</th><th scope=col>utilities</th><th scope=col>lot_config</th><th scope=col>⋯</th><th scope=col>pool_area</th><th scope=col>pool_qc</th><th scope=col>fence</th><th scope=col>misc_feature</th><th scope=col>misc_val</th><th scope=col>mo_sold</th><th scope=col>yr_sold</th><th scope=col>sale_type</th><th scope=col>sale_condition</th><th scope=col>saleprice</th></tr>\n",
              "\t<tr><th></th><th scope=col>&lt;int&gt;</th><th scope=col>&lt;chr&gt;</th><th scope=col>&lt;int&gt;</th><th scope=col>&lt;int&gt;</th><th scope=col>&lt;chr&gt;</th><th scope=col>&lt;chr&gt;</th><th scope=col>&lt;chr&gt;</th><th scope=col>&lt;chr&gt;</th><th scope=col>&lt;chr&gt;</th><th scope=col>&lt;chr&gt;</th><th scope=col>⋯</th><th scope=col>&lt;int&gt;</th><th scope=col>&lt;chr&gt;</th><th scope=col>&lt;chr&gt;</th><th scope=col>&lt;chr&gt;</th><th scope=col>&lt;int&gt;</th><th scope=col>&lt;int&gt;</th><th scope=col>&lt;int&gt;</th><th scope=col>&lt;chr&gt;</th><th scope=col>&lt;chr&gt;</th><th scope=col>&lt;int&gt;</th></tr>\n",
              "</thead>\n",
              "<tbody>\n",
              "\t<tr><th scope=row>1</th><td>20</td><td>RL</td><td>141</td><td>31770</td><td>Pave</td><td>NA</td><td>IR1</td><td>Lvl</td><td>AllPub</td><td>Corner</td><td>⋯</td><td>0</td><td>NA</td><td>NA   </td><td>NA  </td><td>    0</td><td>5</td><td>2010</td><td>WD </td><td>Normal</td><td>215000</td></tr>\n",
              "\t<tr><th scope=row>2</th><td>20</td><td>RH</td><td> 80</td><td>11622</td><td>Pave</td><td>NA</td><td>Reg</td><td>Lvl</td><td>AllPub</td><td>Inside</td><td>⋯</td><td>0</td><td>NA</td><td>MnPrv</td><td>NA  </td><td>    0</td><td>6</td><td>2010</td><td>WD </td><td>Normal</td><td>105000</td></tr>\n",
              "\t<tr><th scope=row>3</th><td>20</td><td>RL</td><td> 81</td><td>14267</td><td>Pave</td><td>NA</td><td>IR1</td><td>Lvl</td><td>AllPub</td><td>Corner</td><td>⋯</td><td>0</td><td>NA</td><td>NA   </td><td>Gar2</td><td>12500</td><td>6</td><td>2010</td><td>WD </td><td>Normal</td><td>172000</td></tr>\n",
              "\t<tr><th scope=row>4</th><td>20</td><td>RL</td><td> 93</td><td>11160</td><td>Pave</td><td>NA</td><td>Reg</td><td>Lvl</td><td>AllPub</td><td>Corner</td><td>⋯</td><td>0</td><td>NA</td><td>NA   </td><td>NA  </td><td>    0</td><td>4</td><td>2010</td><td>WD </td><td>Normal</td><td>244000</td></tr>\n",
              "\t<tr><th scope=row>5</th><td>60</td><td>RL</td><td> 74</td><td>13830</td><td>Pave</td><td>NA</td><td>IR1</td><td>Lvl</td><td>AllPub</td><td>Inside</td><td>⋯</td><td>0</td><td>NA</td><td>MnPrv</td><td>NA  </td><td>    0</td><td>3</td><td>2010</td><td>WD </td><td>Normal</td><td>189900</td></tr>\n",
              "\t<tr><th scope=row>6</th><td>60</td><td>RL</td><td> 78</td><td> 9978</td><td>Pave</td><td>NA</td><td>IR1</td><td>Lvl</td><td>AllPub</td><td>Inside</td><td>⋯</td><td>0</td><td>NA</td><td>NA   </td><td>NA  </td><td>    0</td><td>6</td><td>2010</td><td>WD </td><td>Normal</td><td>195500</td></tr>\n",
              "</tbody>\n",
              "</table>\n"
            ],
            "text/markdown": "\nA data.frame: 6 × 80\n\n| <!--/--> | ms_subclass &lt;int&gt; | ms_zoning &lt;chr&gt; | lot_frontage &lt;int&gt; | lot_area &lt;int&gt; | street &lt;chr&gt; | alley &lt;chr&gt; | lot_shape &lt;chr&gt; | land_contour &lt;chr&gt; | utilities &lt;chr&gt; | lot_config &lt;chr&gt; | ⋯ ⋯ | pool_area &lt;int&gt; | pool_qc &lt;chr&gt; | fence &lt;chr&gt; | misc_feature &lt;chr&gt; | misc_val &lt;int&gt; | mo_sold &lt;int&gt; | yr_sold &lt;int&gt; | sale_type &lt;chr&gt; | sale_condition &lt;chr&gt; | saleprice &lt;int&gt; |\n|---|---|---|---|---|---|---|---|---|---|---|---|---|---|---|---|---|---|---|---|---|---|\n| 1 | 20 | RL | 141 | 31770 | Pave | NA | IR1 | Lvl | AllPub | Corner | ⋯ | 0 | NA | NA    | NA   |     0 | 5 | 2010 | WD  | Normal | 215000 |\n| 2 | 20 | RH |  80 | 11622 | Pave | NA | Reg | Lvl | AllPub | Inside | ⋯ | 0 | NA | MnPrv | NA   |     0 | 6 | 2010 | WD  | Normal | 105000 |\n| 3 | 20 | RL |  81 | 14267 | Pave | NA | IR1 | Lvl | AllPub | Corner | ⋯ | 0 | NA | NA    | Gar2 | 12500 | 6 | 2010 | WD  | Normal | 172000 |\n| 4 | 20 | RL |  93 | 11160 | Pave | NA | Reg | Lvl | AllPub | Corner | ⋯ | 0 | NA | NA    | NA   |     0 | 4 | 2010 | WD  | Normal | 244000 |\n| 5 | 60 | RL |  74 | 13830 | Pave | NA | IR1 | Lvl | AllPub | Inside | ⋯ | 0 | NA | MnPrv | NA   |     0 | 3 | 2010 | WD  | Normal | 189900 |\n| 6 | 60 | RL |  78 |  9978 | Pave | NA | IR1 | Lvl | AllPub | Inside | ⋯ | 0 | NA | NA    | NA   |     0 | 6 | 2010 | WD  | Normal | 195500 |\n\n",
            "text/latex": "A data.frame: 6 × 80\n\\begin{tabular}{r|lllllllllllllllllllll}\n  & ms\\_subclass & ms\\_zoning & lot\\_frontage & lot\\_area & street & alley & lot\\_shape & land\\_contour & utilities & lot\\_config & ⋯ & pool\\_area & pool\\_qc & fence & misc\\_feature & misc\\_val & mo\\_sold & yr\\_sold & sale\\_type & sale\\_condition & saleprice\\\\\n  & <int> & <chr> & <int> & <int> & <chr> & <chr> & <chr> & <chr> & <chr> & <chr> & ⋯ & <int> & <chr> & <chr> & <chr> & <int> & <int> & <int> & <chr> & <chr> & <int>\\\\\n\\hline\n\t1 & 20 & RL & 141 & 31770 & Pave & NA & IR1 & Lvl & AllPub & Corner & ⋯ & 0 & NA & NA    & NA   &     0 & 5 & 2010 & WD  & Normal & 215000\\\\\n\t2 & 20 & RH &  80 & 11622 & Pave & NA & Reg & Lvl & AllPub & Inside & ⋯ & 0 & NA & MnPrv & NA   &     0 & 6 & 2010 & WD  & Normal & 105000\\\\\n\t3 & 20 & RL &  81 & 14267 & Pave & NA & IR1 & Lvl & AllPub & Corner & ⋯ & 0 & NA & NA    & Gar2 & 12500 & 6 & 2010 & WD  & Normal & 172000\\\\\n\t4 & 20 & RL &  93 & 11160 & Pave & NA & Reg & Lvl & AllPub & Corner & ⋯ & 0 & NA & NA    & NA   &     0 & 4 & 2010 & WD  & Normal & 244000\\\\\n\t5 & 60 & RL &  74 & 13830 & Pave & NA & IR1 & Lvl & AllPub & Inside & ⋯ & 0 & NA & MnPrv & NA   &     0 & 3 & 2010 & WD  & Normal & 189900\\\\\n\t6 & 60 & RL &  78 &  9978 & Pave & NA & IR1 & Lvl & AllPub & Inside & ⋯ & 0 & NA & NA    & NA   &     0 & 6 & 2010 & WD  & Normal & 195500\\\\\n\\end{tabular}\n",
            "text/plain": [
              "  ms_subclass ms_zoning lot_frontage lot_area street alley lot_shape\n",
              "1 20          RL        141          31770    Pave   NA    IR1      \n",
              "2 20          RH         80          11622    Pave   NA    Reg      \n",
              "3 20          RL         81          14267    Pave   NA    IR1      \n",
              "4 20          RL         93          11160    Pave   NA    Reg      \n",
              "5 60          RL         74          13830    Pave   NA    IR1      \n",
              "6 60          RL         78           9978    Pave   NA    IR1      \n",
              "  land_contour utilities lot_config ⋯ pool_area pool_qc fence misc_feature\n",
              "1 Lvl          AllPub    Corner     ⋯ 0         NA      NA    NA          \n",
              "2 Lvl          AllPub    Inside     ⋯ 0         NA      MnPrv NA          \n",
              "3 Lvl          AllPub    Corner     ⋯ 0         NA      NA    Gar2        \n",
              "4 Lvl          AllPub    Corner     ⋯ 0         NA      NA    NA          \n",
              "5 Lvl          AllPub    Inside     ⋯ 0         NA      MnPrv NA          \n",
              "6 Lvl          AllPub    Inside     ⋯ 0         NA      NA    NA          \n",
              "  misc_val mo_sold yr_sold sale_type sale_condition saleprice\n",
              "1     0    5       2010    WD        Normal         215000   \n",
              "2     0    6       2010    WD        Normal         105000   \n",
              "3 12500    6       2010    WD        Normal         172000   \n",
              "4     0    4       2010    WD        Normal         244000   \n",
              "5     0    3       2010    WD        Normal         189900   \n",
              "6     0    6       2010    WD        Normal         195500   "
            ]
          },
          "metadata": {}
        }
      ]
    },
    {
      "cell_type": "markdown",
      "source": [
        "# Modificar el nombre de la columna de la variable objetivo \"saleprice\" por \"sale_price\""
      ],
      "metadata": {
        "id": "P0g9NdjElTdb"
      }
    },
    {
      "cell_type": "code",
      "source": [
        "# Cambiar el nombre de la columna\n",
        "names(df)[names(df) == \"saleprice\"] <- \"sale_price\"\n",
        "head(df)"
      ],
      "metadata": {
        "colab": {
          "base_uri": "https://localhost:8080/",
          "height": 306
        },
        "id": "vvdEVekjappz",
        "outputId": "a580cbc7-fb6e-47ed-a208-d303c4dbd4bc"
      },
      "execution_count": 6,
      "outputs": [
        {
          "output_type": "display_data",
          "data": {
            "text/html": [
              "<table class=\"dataframe\">\n",
              "<caption>A data.frame: 6 × 80</caption>\n",
              "<thead>\n",
              "\t<tr><th></th><th scope=col>ms_subclass</th><th scope=col>ms_zoning</th><th scope=col>lot_frontage</th><th scope=col>lot_area</th><th scope=col>street</th><th scope=col>alley</th><th scope=col>lot_shape</th><th scope=col>land_contour</th><th scope=col>utilities</th><th scope=col>lot_config</th><th scope=col>⋯</th><th scope=col>pool_area</th><th scope=col>pool_qc</th><th scope=col>fence</th><th scope=col>misc_feature</th><th scope=col>misc_val</th><th scope=col>mo_sold</th><th scope=col>yr_sold</th><th scope=col>sale_type</th><th scope=col>sale_condition</th><th scope=col>sale_price</th></tr>\n",
              "\t<tr><th></th><th scope=col>&lt;int&gt;</th><th scope=col>&lt;chr&gt;</th><th scope=col>&lt;int&gt;</th><th scope=col>&lt;int&gt;</th><th scope=col>&lt;chr&gt;</th><th scope=col>&lt;chr&gt;</th><th scope=col>&lt;chr&gt;</th><th scope=col>&lt;chr&gt;</th><th scope=col>&lt;chr&gt;</th><th scope=col>&lt;chr&gt;</th><th scope=col>⋯</th><th scope=col>&lt;int&gt;</th><th scope=col>&lt;chr&gt;</th><th scope=col>&lt;chr&gt;</th><th scope=col>&lt;chr&gt;</th><th scope=col>&lt;int&gt;</th><th scope=col>&lt;int&gt;</th><th scope=col>&lt;int&gt;</th><th scope=col>&lt;chr&gt;</th><th scope=col>&lt;chr&gt;</th><th scope=col>&lt;int&gt;</th></tr>\n",
              "</thead>\n",
              "<tbody>\n",
              "\t<tr><th scope=row>1</th><td>20</td><td>RL</td><td>141</td><td>31770</td><td>Pave</td><td>NA</td><td>IR1</td><td>Lvl</td><td>AllPub</td><td>Corner</td><td>⋯</td><td>0</td><td>NA</td><td>NA   </td><td>NA  </td><td>    0</td><td>5</td><td>2010</td><td>WD </td><td>Normal</td><td>215000</td></tr>\n",
              "\t<tr><th scope=row>2</th><td>20</td><td>RH</td><td> 80</td><td>11622</td><td>Pave</td><td>NA</td><td>Reg</td><td>Lvl</td><td>AllPub</td><td>Inside</td><td>⋯</td><td>0</td><td>NA</td><td>MnPrv</td><td>NA  </td><td>    0</td><td>6</td><td>2010</td><td>WD </td><td>Normal</td><td>105000</td></tr>\n",
              "\t<tr><th scope=row>3</th><td>20</td><td>RL</td><td> 81</td><td>14267</td><td>Pave</td><td>NA</td><td>IR1</td><td>Lvl</td><td>AllPub</td><td>Corner</td><td>⋯</td><td>0</td><td>NA</td><td>NA   </td><td>Gar2</td><td>12500</td><td>6</td><td>2010</td><td>WD </td><td>Normal</td><td>172000</td></tr>\n",
              "\t<tr><th scope=row>4</th><td>20</td><td>RL</td><td> 93</td><td>11160</td><td>Pave</td><td>NA</td><td>Reg</td><td>Lvl</td><td>AllPub</td><td>Corner</td><td>⋯</td><td>0</td><td>NA</td><td>NA   </td><td>NA  </td><td>    0</td><td>4</td><td>2010</td><td>WD </td><td>Normal</td><td>244000</td></tr>\n",
              "\t<tr><th scope=row>5</th><td>60</td><td>RL</td><td> 74</td><td>13830</td><td>Pave</td><td>NA</td><td>IR1</td><td>Lvl</td><td>AllPub</td><td>Inside</td><td>⋯</td><td>0</td><td>NA</td><td>MnPrv</td><td>NA  </td><td>    0</td><td>3</td><td>2010</td><td>WD </td><td>Normal</td><td>189900</td></tr>\n",
              "\t<tr><th scope=row>6</th><td>60</td><td>RL</td><td> 78</td><td> 9978</td><td>Pave</td><td>NA</td><td>IR1</td><td>Lvl</td><td>AllPub</td><td>Inside</td><td>⋯</td><td>0</td><td>NA</td><td>NA   </td><td>NA  </td><td>    0</td><td>6</td><td>2010</td><td>WD </td><td>Normal</td><td>195500</td></tr>\n",
              "</tbody>\n",
              "</table>\n"
            ],
            "text/markdown": "\nA data.frame: 6 × 80\n\n| <!--/--> | ms_subclass &lt;int&gt; | ms_zoning &lt;chr&gt; | lot_frontage &lt;int&gt; | lot_area &lt;int&gt; | street &lt;chr&gt; | alley &lt;chr&gt; | lot_shape &lt;chr&gt; | land_contour &lt;chr&gt; | utilities &lt;chr&gt; | lot_config &lt;chr&gt; | ⋯ ⋯ | pool_area &lt;int&gt; | pool_qc &lt;chr&gt; | fence &lt;chr&gt; | misc_feature &lt;chr&gt; | misc_val &lt;int&gt; | mo_sold &lt;int&gt; | yr_sold &lt;int&gt; | sale_type &lt;chr&gt; | sale_condition &lt;chr&gt; | sale_price &lt;int&gt; |\n|---|---|---|---|---|---|---|---|---|---|---|---|---|---|---|---|---|---|---|---|---|---|\n| 1 | 20 | RL | 141 | 31770 | Pave | NA | IR1 | Lvl | AllPub | Corner | ⋯ | 0 | NA | NA    | NA   |     0 | 5 | 2010 | WD  | Normal | 215000 |\n| 2 | 20 | RH |  80 | 11622 | Pave | NA | Reg | Lvl | AllPub | Inside | ⋯ | 0 | NA | MnPrv | NA   |     0 | 6 | 2010 | WD  | Normal | 105000 |\n| 3 | 20 | RL |  81 | 14267 | Pave | NA | IR1 | Lvl | AllPub | Corner | ⋯ | 0 | NA | NA    | Gar2 | 12500 | 6 | 2010 | WD  | Normal | 172000 |\n| 4 | 20 | RL |  93 | 11160 | Pave | NA | Reg | Lvl | AllPub | Corner | ⋯ | 0 | NA | NA    | NA   |     0 | 4 | 2010 | WD  | Normal | 244000 |\n| 5 | 60 | RL |  74 | 13830 | Pave | NA | IR1 | Lvl | AllPub | Inside | ⋯ | 0 | NA | MnPrv | NA   |     0 | 3 | 2010 | WD  | Normal | 189900 |\n| 6 | 60 | RL |  78 |  9978 | Pave | NA | IR1 | Lvl | AllPub | Inside | ⋯ | 0 | NA | NA    | NA   |     0 | 6 | 2010 | WD  | Normal | 195500 |\n\n",
            "text/latex": "A data.frame: 6 × 80\n\\begin{tabular}{r|lllllllllllllllllllll}\n  & ms\\_subclass & ms\\_zoning & lot\\_frontage & lot\\_area & street & alley & lot\\_shape & land\\_contour & utilities & lot\\_config & ⋯ & pool\\_area & pool\\_qc & fence & misc\\_feature & misc\\_val & mo\\_sold & yr\\_sold & sale\\_type & sale\\_condition & sale\\_price\\\\\n  & <int> & <chr> & <int> & <int> & <chr> & <chr> & <chr> & <chr> & <chr> & <chr> & ⋯ & <int> & <chr> & <chr> & <chr> & <int> & <int> & <int> & <chr> & <chr> & <int>\\\\\n\\hline\n\t1 & 20 & RL & 141 & 31770 & Pave & NA & IR1 & Lvl & AllPub & Corner & ⋯ & 0 & NA & NA    & NA   &     0 & 5 & 2010 & WD  & Normal & 215000\\\\\n\t2 & 20 & RH &  80 & 11622 & Pave & NA & Reg & Lvl & AllPub & Inside & ⋯ & 0 & NA & MnPrv & NA   &     0 & 6 & 2010 & WD  & Normal & 105000\\\\\n\t3 & 20 & RL &  81 & 14267 & Pave & NA & IR1 & Lvl & AllPub & Corner & ⋯ & 0 & NA & NA    & Gar2 & 12500 & 6 & 2010 & WD  & Normal & 172000\\\\\n\t4 & 20 & RL &  93 & 11160 & Pave & NA & Reg & Lvl & AllPub & Corner & ⋯ & 0 & NA & NA    & NA   &     0 & 4 & 2010 & WD  & Normal & 244000\\\\\n\t5 & 60 & RL &  74 & 13830 & Pave & NA & IR1 & Lvl & AllPub & Inside & ⋯ & 0 & NA & MnPrv & NA   &     0 & 3 & 2010 & WD  & Normal & 189900\\\\\n\t6 & 60 & RL &  78 &  9978 & Pave & NA & IR1 & Lvl & AllPub & Inside & ⋯ & 0 & NA & NA    & NA   &     0 & 6 & 2010 & WD  & Normal & 195500\\\\\n\\end{tabular}\n",
            "text/plain": [
              "  ms_subclass ms_zoning lot_frontage lot_area street alley lot_shape\n",
              "1 20          RL        141          31770    Pave   NA    IR1      \n",
              "2 20          RH         80          11622    Pave   NA    Reg      \n",
              "3 20          RL         81          14267    Pave   NA    IR1      \n",
              "4 20          RL         93          11160    Pave   NA    Reg      \n",
              "5 60          RL         74          13830    Pave   NA    IR1      \n",
              "6 60          RL         78           9978    Pave   NA    IR1      \n",
              "  land_contour utilities lot_config ⋯ pool_area pool_qc fence misc_feature\n",
              "1 Lvl          AllPub    Corner     ⋯ 0         NA      NA    NA          \n",
              "2 Lvl          AllPub    Inside     ⋯ 0         NA      MnPrv NA          \n",
              "3 Lvl          AllPub    Corner     ⋯ 0         NA      NA    Gar2        \n",
              "4 Lvl          AllPub    Corner     ⋯ 0         NA      NA    NA          \n",
              "5 Lvl          AllPub    Inside     ⋯ 0         NA      MnPrv NA          \n",
              "6 Lvl          AllPub    Inside     ⋯ 0         NA      NA    NA          \n",
              "  misc_val mo_sold yr_sold sale_type sale_condition sale_price\n",
              "1     0    5       2010    WD        Normal         215000    \n",
              "2     0    6       2010    WD        Normal         105000    \n",
              "3 12500    6       2010    WD        Normal         172000    \n",
              "4     0    4       2010    WD        Normal         244000    \n",
              "5     0    3       2010    WD        Normal         189900    \n",
              "6     0    6       2010    WD        Normal         195500    "
            ]
          },
          "metadata": {}
        }
      ]
    },
    {
      "cell_type": "markdown",
      "source": [
        "# Datos faltantes"
      ],
      "metadata": {
        "id": "H6CkFiR2lfIX"
      }
    },
    {
      "cell_type": "markdown",
      "source": [
        "## Contar los valores faltantes"
      ],
      "metadata": {
        "id": "iPpVmCTxlhDF"
      }
    },
    {
      "cell_type": "code",
      "source": [
        "# Contar la cantidad de datos faltantes en cada columna\n",
        "missing_data_count <- colSums(is.na(df))\n",
        "\n",
        "# Filtrar y mostrar solo las columnas que tienen datos faltantes\n",
        "missing_data_count <- missing_data_count[missing_data_count > 0]\n",
        "\n",
        "print(\"Cantidad de datos faltantes por columna:\")\n",
        "print(missing_data_count)\n"
      ],
      "metadata": {
        "colab": {
          "base_uri": "https://localhost:8080/"
        },
        "id": "Y2zy8MXad5zj",
        "outputId": "82fbab8d-2f80-486e-fcf2-722ba6d8808e"
      },
      "execution_count": 7,
      "outputs": [
        {
          "output_type": "stream",
          "name": "stdout",
          "text": [
            "[1] \"Cantidad de datos faltantes por columna:\"\n",
            "  lot_frontage          alley   mas_vnr_area      bsmt_qual      bsmt_cond \n",
            "           490           2732             23             79             79 \n",
            " bsmt_exposure bsmtfin_type_1   bsmtfin_sf_1 bsmtfin_type_2   bsmtfin_sf_2 \n",
            "            79             79              1             79              1 \n",
            "   bsmt_unf_sf  total_bsmt_sf bsmt_full_bath bsmt_half_bath   fireplace_qu \n",
            "             1              1              2              2           1422 \n",
            "   garage_type  garage_yr_blt  garage_finish    garage_cars    garage_area \n",
            "           157            159            157              1              1 \n",
            "   garage_qual    garage_cond        pool_qc          fence   misc_feature \n",
            "           158            158           2917           2358           2824 \n"
          ]
        }
      ]
    },
    {
      "cell_type": "markdown",
      "source": [
        "## Gráfica de barras de columnas con más datos faltantes"
      ],
      "metadata": {
        "id": "Ra6RRNIq1qXf"
      }
    },
    {
      "cell_type": "code",
      "source": [
        "\n",
        "missing_data_df <- as.data.frame(missing_data_count)\n",
        "missing_data_df$Columna <- rownames(missing_data_df)\n",
        "colnames(missing_data_df) <- c(\"Faltantes\", \"Columna\")\n",
        "# Ajustar colores para el gráfico (Negro \"#1F2226\", Naranja \"#F25A38\" y Blanco \"#FFFFFF\")\n",
        "\n",
        "# Ajustar opciones de tamaño de gráfico para el notebook\n",
        "options(repr.plot.width = 15, repr.plot.height = 7)\n",
        "ggplot(missing_data_df, aes(x = reorder(Columna, Faltantes), y = Faltantes, fill = \"Orange\")) +\n",
        "    geom_bar(stat = \"identity\") +\n",
        "    labs(title = \"Datos faltantes por columna\",\n",
        "         x = \"Columna\",\n",
        "         y = \"Cantidad de datos faltantes\") +\n",
        "    theme(\n",
        "      axis.title.x = element_text(size = 14), # Tamaño de la etiqueta del eje X\n",
        "      axis.title.y = element_text(size = 14), # Tamaño de la etiqueta del eje Y\n",
        "      plot.title = element_text(size = 16),    # Tamaño del título\n",
        "      axis.text.x = element_text(size = 12, angle = 90, vjust = 0.5, hjust=1),  # Tamaño del texto de los ticks del eje X\n",
        "      axis.text.y = element_text(size = 12)   # Tamaño del texto de los ticks del eje Y\n",
        "    ) +\n",
        "    scale_fill_manual(values = \"#F25A38\") +\n",
        "    guides(fill = \"none\")"
      ],
      "metadata": {
        "colab": {
          "base_uri": "https://localhost:8080/",
          "height": 437
        },
        "id": "kajO5DkUhmpG",
        "outputId": "626bde31-fd25-436c-bc41-21a647085009"
      },
      "execution_count": 8,
      "outputs": [
        {
          "output_type": "display_data",
          "data": {
            "text/plain": [
              "plot without title"
            ],
            "image/png": "[encoded data removed]"
          },
          "metadata": {
            "image/png": {
              "width": 900,
              "height": 420
            }
          }
        }
      ]
    },
    {
      "cell_type": "markdown",
      "source": [
        "## Columnas con miles de datos faltantes"
      ],
      "metadata": {
        "id": "qw1EidufHuUA"
      }
    },
    {
      "cell_type": "code",
      "source": [
        "\n",
        "\n",
        "# Lista de columnas con más de mil valores faltantes\n",
        "columns_to_replace <- c(\"alley\", \"mas_vnr_type\", \"fireplace_qu\", \"pool_qc\", \"fence\", \"misc_feature\")\n",
        "\n",
        "# Reemplazar los valores faltantes en las columnas seleccionadas\n",
        "for (column in columns_to_replace) {\n",
        "    df[[column]] <- replace_na(df[[column]], paste0(\"no_\", column))\n",
        "}\n",
        "\n",
        "# Para el tipo NONE\n",
        "df$mas_vnr_type <- ifelse(df$mas_vnr_type == \"None\" | is.na(df$mas_vnr_type),\n",
        "                          \"no_mas_vnr_type\",\n",
        "                          df$mas_vnr_type)"
      ],
      "metadata": {
        "id": "3lKQXwh9eQFg"
      },
      "execution_count": 9,
      "outputs": []
    },
    {
      "cell_type": "code",
      "source": [
        "# Lista de columnas que modificamos\n",
        "columns_to_replace <- c(\"alley\", \"mas_vnr_type\", \"fireplace_qu\", \"pool_qc\", \"fence\", \"misc_feature\")\n",
        "\n",
        "# Bucle para imprimir los recuentos de valores para cada columna\n",
        "for (column in columns_to_replace) {\n",
        "    cat(column, \"value counts:\\n\")\n",
        "    print(table(df[[column]], useNA = \"ifany\"))\n",
        "    cat(\"-------------------------------------------\\n\")\n",
        "}\n"
      ],
      "metadata": {
        "colab": {
          "base_uri": "https://localhost:8080/"
        },
        "id": "8NixzAt0eb9V",
        "outputId": "dd3346b4-6b94-4a13-c77b-1d47653015f4"
      },
      "execution_count": 10,
      "outputs": [
        {
          "output_type": "stream",
          "name": "stdout",
          "text": [
            "alley value counts:\n",
            "\n",
            "    Grvl no_alley     Pave \n",
            "     120     2732       78 \n",
            "-------------------------------------------\n",
            "mas_vnr_type value counts:\n",
            "\n",
            "                         BrkCmn         BrkFace          CBlock no_mas_vnr_type \n",
            "             23              25             880               1            1752 \n",
            "          Stone \n",
            "            249 \n",
            "-------------------------------------------\n",
            "fireplace_qu value counts:\n",
            "\n",
            "             Ex              Fa              Gd no_fireplace_qu              Po \n",
            "             43              75             744            1422              46 \n",
            "             TA \n",
            "            600 \n",
            "-------------------------------------------\n",
            "pool_qc value counts:\n",
            "\n",
            "        Ex         Fa         Gd no_pool_qc         TA \n",
            "         4          2          4       2917          3 \n",
            "-------------------------------------------\n",
            "fence value counts:\n",
            "\n",
            "   GdPrv     GdWo    MnPrv     MnWw no_fence \n",
            "     118      112      330       12     2358 \n",
            "-------------------------------------------\n",
            "misc_feature value counts:\n",
            "\n",
            "           Elev            Gar2 no_misc_feature            Othr            Shed \n",
            "              1               5            2824               4              95 \n",
            "           TenC \n",
            "              1 \n",
            "-------------------------------------------\n"
          ]
        }
      ]
    },
    {
      "cell_type": "markdown",
      "source": [
        "## Revisión de columnas con datos faltantes inferiores a mil"
      ],
      "metadata": {
        "id": "hFGCVv5lP9C3"
      }
    },
    {
      "cell_type": "code",
      "source": [
        "# Contar la cantidad de datos faltantes en cada columna\n",
        "missing_data_count <- colSums(is.na(df))\n",
        "\n",
        "# Filtrar y mostrar solo las columnas que tienen datos faltantes\n",
        "missing_data_count <- missing_data_count[missing_data_count > 0]\n",
        "\n",
        "# Imprimir la cantidad de datos faltantes por columna\n",
        "cat(\"Cantidad de datos faltantes por columna:\\n\")\n",
        "print(missing_data_count)"
      ],
      "metadata": {
        "colab": {
          "base_uri": "https://localhost:8080/"
        },
        "id": "-VI1F5aIgQBq",
        "outputId": "a2f358c3-5290-49a8-8c7e-b2746d4d9fbc"
      },
      "execution_count": 11,
      "outputs": [
        {
          "output_type": "stream",
          "name": "stdout",
          "text": [
            "Cantidad de datos faltantes por columna:\n",
            "  lot_frontage   mas_vnr_area      bsmt_qual      bsmt_cond  bsmt_exposure \n",
            "           490             23             79             79             79 \n",
            "bsmtfin_type_1   bsmtfin_sf_1 bsmtfin_type_2   bsmtfin_sf_2    bsmt_unf_sf \n",
            "            79              1             79              1              1 \n",
            " total_bsmt_sf bsmt_full_bath bsmt_half_bath    garage_type  garage_yr_blt \n",
            "             1              2              2            157            159 \n",
            " garage_finish    garage_cars    garage_area    garage_qual    garage_cond \n",
            "           157              1              1            158            158 \n"
          ]
        }
      ]
    },
    {
      "cell_type": "code",
      "source": [
        "# Lista de columnas\n",
        "columns_to_check <- c(\"lot_frontage\", \"mas_vnr_area\", \"bsmt_qual\", \"bsmt_cond\",\n",
        "                      \"bsmt_exposure\", \"bsmtfin_type_1\", \"bsmtfin_sf_1\",\n",
        "                      \"bsmtfin_type_2\", \"bsmtfin_sf_2\", \"bsmt_unf_sf\",\n",
        "                      \"total_bsmt_sf\", \"electrical\", \"bsmt_full_bath\",\n",
        "                      \"bsmt_half_bath\", \"garage_type\", \"garage_finish\",\n",
        "                      \"garage_cars\", \"garage_area\", \"garage_qual\", \"garage_cond\")\n",
        "\n",
        "# Verificar el tipo de dato de cada columna\n",
        "column_data_types <- sapply(df[, columns_to_check], class)\n",
        "\n",
        "# Imprimir los resultados\n",
        "print(column_data_types)"
      ],
      "metadata": {
        "colab": {
          "base_uri": "https://localhost:8080/"
        },
        "id": "sCkWH4-hierL",
        "outputId": "5c83787e-9d9c-4549-87e5-2c1b08de49b3"
      },
      "execution_count": 12,
      "outputs": [
        {
          "output_type": "stream",
          "name": "stdout",
          "text": [
            "  lot_frontage   mas_vnr_area      bsmt_qual      bsmt_cond  bsmt_exposure \n",
            "     \"integer\"      \"integer\"    \"character\"    \"character\"    \"character\" \n",
            "bsmtfin_type_1   bsmtfin_sf_1 bsmtfin_type_2   bsmtfin_sf_2    bsmt_unf_sf \n",
            "   \"character\"      \"integer\"    \"character\"      \"integer\"      \"integer\" \n",
            " total_bsmt_sf     electrical bsmt_full_bath bsmt_half_bath    garage_type \n",
            "     \"integer\"    \"character\"      \"integer\"      \"integer\"    \"character\" \n",
            " garage_finish    garage_cars    garage_area    garage_qual    garage_cond \n",
            "   \"character\"      \"integer\"      \"integer\"    \"character\"    \"character\" \n"
          ]
        }
      ]
    },
    {
      "cell_type": "code",
      "source": [
        "\n",
        "\n",
        "# Reemplazar valores faltantes en 'electrical' con 'unknown'\n",
        "df$electrical <- replace_na(df$electrical, \"unknown\")\n",
        "\n",
        "# Lista de columnas relacionadas con el garaje\n",
        "garage_columns <- c(\"garage_type\", \"garage_finish\", \"garage_qual\", \"garage_cond\")\n",
        "# Reemplazar los valores faltantes en las columnas del garaje con 'no_garage'\n",
        "df[garage_columns] <- lapply(df[garage_columns], function(x) replace_na(x, \"no_garage\"))\n",
        "\n",
        "# Lista de columnas relacionadas con el sótano\n",
        "basement_columns <- c(\"bsmt_qual\", \"bsmt_cond\", \"bsmt_exposure\", \"bsmtfin_type_1\", \"bsmtfin_type_2\")\n",
        "# Reemplazar los valores faltantes en las columnas del sótano con 'no_basement'\n",
        "df[basement_columns] <- lapply(df[basement_columns], function(x) replace_na(x, \"no_basement\"))\n"
      ],
      "metadata": {
        "id": "7fQXGdaXiJgu"
      },
      "execution_count": 13,
      "outputs": []
    },
    {
      "cell_type": "code",
      "source": [
        "# Lista de columnas para rellenar con ceros\n",
        "columns_to_fill_with_zeros <- c(\"lot_frontage\", \"mas_vnr_area\", \"bsmtfin_sf_1\",\n",
        "                                \"bsmtfin_sf_2\", \"bsmt_unf_sf\", \"total_bsmt_sf\",\n",
        "                                \"bsmt_full_bath\", \"bsmt_half_bath\", \"garage_cars\", \"garage_area\")\n",
        "\n",
        "# Reemplazar los valores faltantes en las columnas especificadas con 0\n",
        "df[columns_to_fill_with_zeros] <- lapply(df[columns_to_fill_with_zeros], function(x) replace_na(x, 0))\n",
        "\n",
        "# Contar la cantidad de datos faltantes en cada columna\n",
        "missing_data_count <- colSums(is.na(df))\n",
        "\n",
        "# Filtrar y mostrar solo las columnas que tienen datos faltantes\n",
        "missing_data_count <- missing_data_count[missing_data_count > 0]\n",
        "\n",
        "# Imprimir la cantidad de datos faltantes por columna\n",
        "cat(\"Cantidad de datos faltantes por columna:\\n\")\n",
        "print(missing_data_count)\n"
      ],
      "metadata": {
        "colab": {
          "base_uri": "https://localhost:8080/"
        },
        "id": "kjjncCzcjHzn",
        "outputId": "989d896d-45e8-406c-fb2d-5cee02d5a582"
      },
      "execution_count": 14,
      "outputs": [
        {
          "output_type": "stream",
          "name": "stdout",
          "text": [
            "Cantidad de datos faltantes por columna:\n",
            "garage_yr_blt \n",
            "          159 \n"
          ]
        }
      ]
    },
    {
      "cell_type": "markdown",
      "source": [
        "# Aplicación de Label Encoding"
      ],
      "metadata": {
        "id": "LXxs-o7-QLaz"
      }
    },
    {
      "cell_type": "code",
      "source": [
        "\n",
        "\n",
        "# Identificar las columnas de tipo factor\n",
        "object_columns <- sapply(df, is.factor)\n",
        "\n",
        "# Aplicar Label Encoding a cada columna de tipo factor\n",
        "df[object_columns] <- lapply(df[object_columns], function(x) as.integer(as.factor(x)))\n"
      ],
      "metadata": {
        "id": "h_ei1x40jSF2"
      },
      "execution_count": 15,
      "outputs": []
    },
    {
      "cell_type": "code",
      "source": [
        "head(df)"
      ],
      "metadata": {
        "colab": {
          "base_uri": "https://localhost:8080/",
          "height": 306
        },
        "id": "WxS32HuPjkPQ",
        "outputId": "2e0652a4-6a3b-4956-ec09-dcf2370ea45c"
      },
      "execution_count": 16,
      "outputs": [
        {
          "output_type": "display_data",
          "data": {
            "text/html": [
              "<table class=\"dataframe\">\n",
              "<caption>A data.frame: 6 × 80</caption>\n",
              "<thead>\n",
              "\t<tr><th></th><th scope=col>ms_subclass</th><th scope=col>ms_zoning</th><th scope=col>lot_frontage</th><th scope=col>lot_area</th><th scope=col>street</th><th scope=col>alley</th><th scope=col>lot_shape</th><th scope=col>land_contour</th><th scope=col>utilities</th><th scope=col>lot_config</th><th scope=col>⋯</th><th scope=col>pool_area</th><th scope=col>pool_qc</th><th scope=col>fence</th><th scope=col>misc_feature</th><th scope=col>misc_val</th><th scope=col>mo_sold</th><th scope=col>yr_sold</th><th scope=col>sale_type</th><th scope=col>sale_condition</th><th scope=col>sale_price</th></tr>\n",
              "\t<tr><th></th><th scope=col>&lt;int&gt;</th><th scope=col>&lt;chr&gt;</th><th scope=col>&lt;int&gt;</th><th scope=col>&lt;int&gt;</th><th scope=col>&lt;chr&gt;</th><th scope=col>&lt;chr&gt;</th><th scope=col>&lt;chr&gt;</th><th scope=col>&lt;chr&gt;</th><th scope=col>&lt;chr&gt;</th><th scope=col>&lt;chr&gt;</th><th scope=col>⋯</th><th scope=col>&lt;int&gt;</th><th scope=col>&lt;chr&gt;</th><th scope=col>&lt;chr&gt;</th><th scope=col>&lt;chr&gt;</th><th scope=col>&lt;int&gt;</th><th scope=col>&lt;int&gt;</th><th scope=col>&lt;int&gt;</th><th scope=col>&lt;chr&gt;</th><th scope=col>&lt;chr&gt;</th><th scope=col>&lt;int&gt;</th></tr>\n",
              "</thead>\n",
              "<tbody>\n",
              "\t<tr><th scope=row>1</th><td>20</td><td>RL</td><td>141</td><td>31770</td><td>Pave</td><td>no_alley</td><td>IR1</td><td>Lvl</td><td>AllPub</td><td>Corner</td><td>⋯</td><td>0</td><td>no_pool_qc</td><td>no_fence</td><td>no_misc_feature</td><td>    0</td><td>5</td><td>2010</td><td>WD </td><td>Normal</td><td>215000</td></tr>\n",
              "\t<tr><th scope=row>2</th><td>20</td><td>RH</td><td> 80</td><td>11622</td><td>Pave</td><td>no_alley</td><td>Reg</td><td>Lvl</td><td>AllPub</td><td>Inside</td><td>⋯</td><td>0</td><td>no_pool_qc</td><td>MnPrv   </td><td>no_misc_feature</td><td>    0</td><td>6</td><td>2010</td><td>WD </td><td>Normal</td><td>105000</td></tr>\n",
              "\t<tr><th scope=row>3</th><td>20</td><td>RL</td><td> 81</td><td>14267</td><td>Pave</td><td>no_alley</td><td>IR1</td><td>Lvl</td><td>AllPub</td><td>Corner</td><td>⋯</td><td>0</td><td>no_pool_qc</td><td>no_fence</td><td>Gar2           </td><td>12500</td><td>6</td><td>2010</td><td>WD </td><td>Normal</td><td>172000</td></tr>\n",
              "\t<tr><th scope=row>4</th><td>20</td><td>RL</td><td> 93</td><td>11160</td><td>Pave</td><td>no_alley</td><td>Reg</td><td>Lvl</td><td>AllPub</td><td>Corner</td><td>⋯</td><td>0</td><td>no_pool_qc</td><td>no_fence</td><td>no_misc_feature</td><td>    0</td><td>4</td><td>2010</td><td>WD </td><td>Normal</td><td>244000</td></tr>\n",
              "\t<tr><th scope=row>5</th><td>60</td><td>RL</td><td> 74</td><td>13830</td><td>Pave</td><td>no_alley</td><td>IR1</td><td>Lvl</td><td>AllPub</td><td>Inside</td><td>⋯</td><td>0</td><td>no_pool_qc</td><td>MnPrv   </td><td>no_misc_feature</td><td>    0</td><td>3</td><td>2010</td><td>WD </td><td>Normal</td><td>189900</td></tr>\n",
              "\t<tr><th scope=row>6</th><td>60</td><td>RL</td><td> 78</td><td> 9978</td><td>Pave</td><td>no_alley</td><td>IR1</td><td>Lvl</td><td>AllPub</td><td>Inside</td><td>⋯</td><td>0</td><td>no_pool_qc</td><td>no_fence</td><td>no_misc_feature</td><td>    0</td><td>6</td><td>2010</td><td>WD </td><td>Normal</td><td>195500</td></tr>\n",
              "</tbody>\n",
              "</table>\n"
            ],
            "text/markdown": "\nA data.frame: 6 × 80\n\n| <!--/--> | ms_subclass &lt;int&gt; | ms_zoning &lt;chr&gt; | lot_frontage &lt;int&gt; | lot_area &lt;int&gt; | street &lt;chr&gt; | alley &lt;chr&gt; | lot_shape &lt;chr&gt; | land_contour &lt;chr&gt; | utilities &lt;chr&gt; | lot_config &lt;chr&gt; | ⋯ ⋯ | pool_area &lt;int&gt; | pool_qc &lt;chr&gt; | fence &lt;chr&gt; | misc_feature &lt;chr&gt; | misc_val &lt;int&gt; | mo_sold &lt;int&gt; | yr_sold &lt;int&gt; | sale_type &lt;chr&gt; | sale_condition &lt;chr&gt; | sale_price &lt;int&gt; |\n|---|---|---|---|---|---|---|---|---|---|---|---|---|---|---|---|---|---|---|---|---|---|\n| 1 | 20 | RL | 141 | 31770 | Pave | no_alley | IR1 | Lvl | AllPub | Corner | ⋯ | 0 | no_pool_qc | no_fence | no_misc_feature |     0 | 5 | 2010 | WD  | Normal | 215000 |\n| 2 | 20 | RH |  80 | 11622 | Pave | no_alley | Reg | Lvl | AllPub | Inside | ⋯ | 0 | no_pool_qc | MnPrv    | no_misc_feature |     0 | 6 | 2010 | WD  | Normal | 105000 |\n| 3 | 20 | RL |  81 | 14267 | Pave | no_alley | IR1 | Lvl | AllPub | Corner | ⋯ | 0 | no_pool_qc | no_fence | Gar2            | 12500 | 6 | 2010 | WD  | Normal | 172000 |\n| 4 | 20 | RL |  93 | 11160 | Pave | no_alley | Reg | Lvl | AllPub | Corner | ⋯ | 0 | no_pool_qc | no_fence | no_misc_feature |     0 | 4 | 2010 | WD  | Normal | 244000 |\n| 5 | 60 | RL |  74 | 13830 | Pave | no_alley | IR1 | Lvl | AllPub | Inside | ⋯ | 0 | no_pool_qc | MnPrv    | no_misc_feature |     0 | 3 | 2010 | WD  | Normal | 189900 |\n| 6 | 60 | RL |  78 |  9978 | Pave | no_alley | IR1 | Lvl | AllPub | Inside | ⋯ | 0 | no_pool_qc | no_fence | no_misc_feature |     0 | 6 | 2010 | WD  | Normal | 195500 |\n\n",
            "text/latex": "A data.frame: 6 × 80\n\\begin{tabular}{r|lllllllllllllllllllll}\n  & ms\\_subclass & ms\\_zoning & lot\\_frontage & lot\\_area & street & alley & lot\\_shape & land\\_contour & utilities & lot\\_config & ⋯ & pool\\_area & pool\\_qc & fence & misc\\_feature & misc\\_val & mo\\_sold & yr\\_sold & sale\\_type & sale\\_condition & sale\\_price\\\\\n  & <int> & <chr> & <int> & <int> & <chr> & <chr> & <chr> & <chr> & <chr> & <chr> & ⋯ & <int> & <chr> & <chr> & <chr> & <int> & <int> & <int> & <chr> & <chr> & <int>\\\\\n\\hline\n\t1 & 20 & RL & 141 & 31770 & Pave & no\\_alley & IR1 & Lvl & AllPub & Corner & ⋯ & 0 & no\\_pool\\_qc & no\\_fence & no\\_misc\\_feature &     0 & 5 & 2010 & WD  & Normal & 215000\\\\\n\t2 & 20 & RH &  80 & 11622 & Pave & no\\_alley & Reg & Lvl & AllPub & Inside & ⋯ & 0 & no\\_pool\\_qc & MnPrv    & no\\_misc\\_feature &     0 & 6 & 2010 & WD  & Normal & 105000\\\\\n\t3 & 20 & RL &  81 & 14267 & Pave & no\\_alley & IR1 & Lvl & AllPub & Corner & ⋯ & 0 & no\\_pool\\_qc & no\\_fence & Gar2            & 12500 & 6 & 2010 & WD  & Normal & 172000\\\\\n\t4 & 20 & RL &  93 & 11160 & Pave & no\\_alley & Reg & Lvl & AllPub & Corner & ⋯ & 0 & no\\_pool\\_qc & no\\_fence & no\\_misc\\_feature &     0 & 4 & 2010 & WD  & Normal & 244000\\\\\n\t5 & 60 & RL &  74 & 13830 & Pave & no\\_alley & IR1 & Lvl & AllPub & Inside & ⋯ & 0 & no\\_pool\\_qc & MnPrv    & no\\_misc\\_feature &     0 & 3 & 2010 & WD  & Normal & 189900\\\\\n\t6 & 60 & RL &  78 &  9978 & Pave & no\\_alley & IR1 & Lvl & AllPub & Inside & ⋯ & 0 & no\\_pool\\_qc & no\\_fence & no\\_misc\\_feature &     0 & 6 & 2010 & WD  & Normal & 195500\\\\\n\\end{tabular}\n",
            "text/plain": [
              "  ms_subclass ms_zoning lot_frontage lot_area street alley    lot_shape\n",
              "1 20          RL        141          31770    Pave   no_alley IR1      \n",
              "2 20          RH         80          11622    Pave   no_alley Reg      \n",
              "3 20          RL         81          14267    Pave   no_alley IR1      \n",
              "4 20          RL         93          11160    Pave   no_alley Reg      \n",
              "5 60          RL         74          13830    Pave   no_alley IR1      \n",
              "6 60          RL         78           9978    Pave   no_alley IR1      \n",
              "  land_contour utilities lot_config ⋯ pool_area pool_qc    fence   \n",
              "1 Lvl          AllPub    Corner     ⋯ 0         no_pool_qc no_fence\n",
              "2 Lvl          AllPub    Inside     ⋯ 0         no_pool_qc MnPrv   \n",
              "3 Lvl          AllPub    Corner     ⋯ 0         no_pool_qc no_fence\n",
              "4 Lvl          AllPub    Corner     ⋯ 0         no_pool_qc no_fence\n",
              "5 Lvl          AllPub    Inside     ⋯ 0         no_pool_qc MnPrv   \n",
              "6 Lvl          AllPub    Inside     ⋯ 0         no_pool_qc no_fence\n",
              "  misc_feature    misc_val mo_sold yr_sold sale_type sale_condition sale_price\n",
              "1 no_misc_feature     0    5       2010    WD        Normal         215000    \n",
              "2 no_misc_feature     0    6       2010    WD        Normal         105000    \n",
              "3 Gar2            12500    6       2010    WD        Normal         172000    \n",
              "4 no_misc_feature     0    4       2010    WD        Normal         244000    \n",
              "5 no_misc_feature     0    3       2010    WD        Normal         189900    \n",
              "6 no_misc_feature     0    6       2010    WD        Normal         195500    "
            ]
          },
          "metadata": {}
        }
      ]
    },
    {
      "cell_type": "code",
      "source": [
        "# Seleccionar solo columnas numéricas\n",
        "numeric_columns <- sapply(df, is.numeric)\n",
        "\n",
        "# Excluir 'sale_price' y columnas de tipo objeto de la estandarización\n",
        "cols_to_scale <- setdiff(names(df)[numeric_columns], c(\"sale_price\", names(df)[object_columns]))\n",
        "\n",
        "# Ajustar y transformar las columnas seleccionadas\n",
        "df[cols_to_scale] <- scale(df[cols_to_scale])\n",
        "\n",
        "# Imprimir las primeras filas del DataFrame\n",
        "print(head(df))\n"
      ],
      "metadata": {
        "colab": {
          "base_uri": "https://localhost:8080/"
        },
        "id": "1HduZmIEjrfF",
        "outputId": "9b745070-a8a5-4f79-d131-0a333f8c8168"
      },
      "execution_count": 17,
      "outputs": [
        {
          "output_type": "stream",
          "name": "stdout",
          "text": [
            "  ms_subclass ms_zoning lot_frontage    lot_area street    alley lot_shape\n",
            "1  -0.8768552        RL    2.4881675  2.74391236   Pave no_alley       IR1\n",
            "2  -0.8768552        RH    0.6672415  0.18706533   Pave no_alley       Reg\n",
            "3  -0.8768552        RL    0.6970928  0.52272448   Pave no_alley       IR1\n",
            "4  -0.8768552        RL    1.0553077  0.12843602   Pave no_alley       Reg\n",
            "5   0.0612746        RL    0.4881341  0.46726775   Pave no_alley       IR1\n",
            "6   0.0612746        RL    0.6075390 -0.02156364   Pave no_alley       IR1\n",
            "  land_contour utilities lot_config land_slope neighborhood condition_1\n",
            "1          Lvl    AllPub     Corner        Gtl        NAmes        Norm\n",
            "2          Lvl    AllPub     Inside        Gtl        NAmes       Feedr\n",
            "3          Lvl    AllPub     Corner        Gtl        NAmes        Norm\n",
            "4          Lvl    AllPub     Corner        Gtl        NAmes        Norm\n",
            "5          Lvl    AllPub     Inside        Gtl      Gilbert        Norm\n",
            "6          Lvl    AllPub     Inside        Gtl      Gilbert        Norm\n",
            "  condition_2 bldg_type house_style overall_qual overall_cond year_built\n",
            "1        Norm      1Fam      1Story  -0.06724223   -0.5066319 -0.3754729\n",
            "2        Norm      1Fam      1Story  -0.77594635    0.3930236 -0.3424100\n",
            "3        Norm      1Fam      1Story  -0.06724223    0.3930236 -0.4415988\n",
            "4        Norm      1Fam      1Story   0.64146189   -0.5066319 -0.1109695\n",
            "5        Norm      1Fam      2Story  -0.77594635   -0.5066319  0.8478552\n",
            "6        Norm      1Fam      2Story  -0.06724223    0.3930236  0.8809181\n",
            "  year_remod_add roof_style roof_matl exterior_1st exterior_2nd    mas_vnr_type\n",
            "1     -1.1632896        Hip   CompShg      BrkFace      Plywood           Stone\n",
            "2     -1.1153516      Gable   CompShg      VinylSd      VinylSd no_mas_vnr_type\n",
            "3     -1.2591655        Hip   CompShg      Wd Sdng      Wd Sdng         BrkFace\n",
            "4     -0.7797857        Hip   CompShg      BrkFace      BrkFace no_mas_vnr_type\n",
            "5      0.6583537      Gable   CompShg      VinylSd      VinylSd no_mas_vnr_type\n",
            "6      0.6583537      Gable   CompShg      VinylSd      VinylSd         BrkFace\n",
            "  mas_vnr_area exter_qual exter_cond foundation bsmt_qual bsmt_cond\n",
            "1   0.06103563         TA         TA     CBlock        TA        Gd\n",
            "2  -0.56594277         TA         TA     CBlock        TA        TA\n",
            "3   0.03864354         TA         TA     CBlock        TA        TA\n",
            "4  -0.56594277         Gd         TA     CBlock        TA        TA\n",
            "5  -0.56594277         TA         TA      PConc        Gd        TA\n",
            "6  -0.45398234         TA         TA      PConc        TA        TA\n",
            "  bsmt_exposure bsmtfin_type_1 bsmtfin_sf_1 bsmtfin_type_2 bsmtfin_sf_2\n",
            "1            Gd            BLQ   0.43135941            Unf   -0.2938681\n",
            "2            No            Rec   0.05601901            LwQ    0.5574871\n",
            "3            No            ALQ   1.05473176            Unf   -0.2938681\n",
            "4            No            ALQ   1.36641794            Unf   -0.2938681\n",
            "5            No            GLQ   0.76499532            Unf   -0.2938681\n",
            "6            No            GLQ   0.35014540            Unf   -0.2938681\n",
            "  bsmt_unf_sf total_bsmt_sf heating heating_qc central_air electrical\n",
            "1  -0.2686252     0.0651847    GasA         Fa           Y      SBrkr\n",
            "2  -0.6576678    -0.3838275    GasA         TA           Y      SBrkr\n",
            "3  -0.3482538     0.6298515    GasA         TA           Y      SBrkr\n",
            "4   1.1055369     2.4009550    GasA         Ex           Y      SBrkr\n",
            "5  -0.9602565    -0.2795115    GasA         Gd           Y      SBrkr\n",
            "6  -0.5348122    -0.2840470    GasA         Ex           Y      SBrkr\n",
            "  x1st_flr_sf x2nd_flr_sf low_qual_fin_sf gr_liv_area bsmt_full_bath\n",
            "1   1.2667871  -0.7830517      -0.1009877   0.3092123      1.0841906\n",
            "2  -0.6725282  -0.7830517      -0.1009877  -1.1942232     -0.8214353\n",
            "3   0.4323712  -0.7830517      -0.1009877  -0.3376606     -0.8214353\n",
            "4   2.4252728  -0.7830517      -0.1009877   1.2073172      1.0841906\n",
            "5  -0.5908728   0.8532859      -0.1009877   0.2558008     -0.8214353\n",
            "6  -0.5959763   0.7995972      -0.1009877   0.2063456     -0.8214353\n",
            "  bsmt_half_bath  full_bath  half_bath bedroom_abvgr kitchen_abvgr kitchen_qual\n",
            "1     -0.2491777 -1.0246180 -0.7550738     0.1760642    -0.2072561           TA\n",
            "2     -0.2491777 -1.0246180 -0.7550738    -1.0320576    -0.2072561           TA\n",
            "3     -0.2491777 -1.0246180  1.2344642     0.1760642    -0.2072561           Gd\n",
            "4     -0.2491777  0.7838945  1.2344642     0.1760642    -0.2072561           Ex\n",
            "5     -0.2491777  0.7838945  1.2344642     0.1760642    -0.2072561           TA\n",
            "6     -0.2491777  0.7838945  1.2344642     0.1760642    -0.2072561           Gd\n",
            "  totrms_abvgrd functional fireplaces    fireplace_qu garage_type garage_yr_blt\n",
            "1     0.3541063        Typ  2.1618110              Gd      Attchd    -0.7102848\n",
            "2    -0.9173783        Typ -0.9249854 no_fireplace_qu      Attchd    -0.6711128\n",
            "3    -0.2816360        Typ -0.9249854 no_fireplace_qu      Attchd    -0.7886289\n",
            "4     0.9898486        Typ  2.1618110              TA      Attchd    -0.3969085\n",
            "5    -0.2816360        Typ  0.6184128              TA      Attchd     0.7390807\n",
            "6     0.3541063        Typ  0.6184128              Gd      Attchd     0.7782528\n",
            "  garage_finish garage_cars garage_area garage_qual garage_cond paved_drive\n",
            "1           Fin   0.3071569  0.25717905          TA          TA           P\n",
            "2           Unf  -1.0066675  1.19589661          TA          TA           Y\n",
            "3           Unf  -1.0066675 -0.74659815          TA          TA           Y\n",
            "4           Fin   0.3071569  0.22929635          TA          TA           Y\n",
            "5           Fin   0.3071569  0.04341168          TA          TA           Y\n",
            "6           Fin   0.3071569 -0.01235372          TA          TA           Y\n",
            "  wood_deck_sf open_porch_sf enclosed_porch x3ssn_porch screen_porch\n",
            "1    0.9199643     0.2143720     -0.3587768  -0.1031167   -0.2853057\n",
            "2    0.3659983    -0.7043724     -0.3587768  -0.1031167    1.8542134\n",
            "3    2.3681895    -0.1709079     -0.3587768  -0.1031167   -0.2853057\n",
            "4   -0.7419335    -0.7043724     -0.3587768  -0.1031167   -0.2853057\n",
            "5    0.9357919    -0.2005448     -0.3587768  -0.1031167   -0.2853057\n",
            "6    2.1070341    -0.1709079     -0.3587768  -0.1031167   -0.2853057\n",
            "    pool_area    pool_qc    fence    misc_feature    misc_val     mo_sold\n",
            "1 -0.06302029 no_pool_qc no_fence no_misc_feature -0.08940702 -0.44798097\n",
            "2 -0.06302029 no_pool_qc    MnPrv no_misc_feature -0.08940702 -0.07958798\n",
            "3 -0.06302029 no_pool_qc no_fence            Gar2 21.98197299 -0.07958798\n",
            "4 -0.06302029 no_pool_qc no_fence no_misc_feature -0.08940702 -0.81637397\n",
            "5 -0.06302029 no_pool_qc    MnPrv no_misc_feature -0.08940702 -1.18476697\n",
            "6 -0.06302029 no_pool_qc no_fence no_misc_feature -0.08940702 -0.07958798\n",
            "   yr_sold sale_type sale_condition sale_price\n",
            "1 1.678213       WD          Normal     215000\n",
            "2 1.678213       WD          Normal     105000\n",
            "3 1.678213       WD          Normal     172000\n",
            "4 1.678213       WD          Normal     244000\n",
            "5 1.678213       WD          Normal     189900\n",
            "6 1.678213       WD          Normal     195500\n"
          ]
        }
      ]
    },
    {
      "cell_type": "markdown",
      "source": [
        "## Almacenamiento del dataframe en archivo CSV"
      ],
      "metadata": {
        "id": "xjPmc9mDSJwN"
      }
    },
    {
      "cell_type": "code",
      "source": [
        "# Se guarda en archivo con write.csv()\n",
        "write.csv(df, \"AmesHousing_processed_data.csv\", row.names = FALSE)"
      ],
      "metadata": {
        "id": "mr-Ae9fnj0wA"
      },
      "execution_count": 20,
      "outputs": []
    }
  ]
}